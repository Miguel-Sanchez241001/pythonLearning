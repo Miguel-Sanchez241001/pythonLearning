{
 "cells": [
  {
   "cell_type": "markdown",
   "metadata": {},
   "source": [
    "## Estructuras de control de flujo\n",
    "# if elif else for while\n",
    " Condiciones de verdad"
   ]
  },
  {
   "cell_type": "code",
   "execution_count": 20,
   "metadata": {
    "scrolled": true
   },
   "outputs": [
    {
     "name": "stdout",
     "output_type": "stream",
     "text": [
      "ingresa un numero: 0\n",
      "ingresaste cero\n"
     ]
    }
   ],
   "source": [
    "# if\n",
    "# el conficional if tiene complementos como elif (sino si...) else(sino)\n",
    "# resaltar la importancia de la sangria en estas estructuras \n",
    "\n",
    "# ejemplo para comparar si un numero es par o impar\n",
    "num = int(input(\"ingresa un numero: \"))\n",
    "\n",
    "if num != 0: # if inicial \n",
    "\n",
    "    if num % 2 == 0: # primera sangria para identificar el codigo del primer if\n",
    "    \n",
    "        print(\"su numero es par\") # segunda sangria para este if\n",
    "    \n",
    "    else: # caso de que el segundo if sea falso\n",
    "        \n",
    "        print(\"su numero es impar\") # sangria para sus instrucciones\n",
    "else: # else del if inicial al mismo nivel del if principal\n",
    "    \n",
    "    print(\"ingresaste cero\") # sangria al mismo nivel que las instrucciones del if principal\n",
    "    "
   ]
  },
  {
   "cell_type": "code",
   "execution_count": 1,
   "metadata": {},
   "outputs": [
    {
     "name": "stdout",
     "output_type": "stream",
     "text": [
      "ingresa un numero: 10\n",
      "ingresa un numero: 11\n",
      "ingresa un numero: 12\n",
      "El numero mayor es 12\n"
     ]
    }
   ],
   "source": [
    "# comparar 3 numeros\n",
    "num = int(input(\"ingresa un numero: \"))\n",
    "num1 = int(input(\"ingresa un numero: \"))\n",
    "num2 = int(input(\"ingresa un numero: \"))\n",
    "\n",
    "mayor = num\n",
    "\n",
    "if num1 > mayor:\n",
    "    mayor = num1\n",
    "if num2 > mayor:\n",
    "    mayor = num2\n",
    "print(\"El numero mayor es\",mayor)"
   ]
  },
  {
   "cell_type": "code",
   "execution_count": null,
   "metadata": {},
   "outputs": [],
   "source": []
  }
 ],
 "metadata": {
  "kernelspec": {
   "display_name": "Python 3",
   "language": "python",
   "name": "python3"
  },
  "language_info": {
   "codemirror_mode": {
    "name": "ipython",
    "version": 3
   },
   "file_extension": ".py",
   "mimetype": "text/x-python",
   "name": "python",
   "nbconvert_exporter": "python",
   "pygments_lexer": "ipython3",
   "version": "3.7.1"
  }
 },
 "nbformat": 4,
 "nbformat_minor": 4
}
