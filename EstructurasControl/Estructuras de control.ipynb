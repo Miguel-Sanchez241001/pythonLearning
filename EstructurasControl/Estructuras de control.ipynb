{
 "cells": [
  {
   "cell_type": "markdown",
   "metadata": {},
   "source": [
    "## Estructuras de control de flujo\n",
    "# if elif else for while\n",
    " Condiciones de verdad"
   ]
  },
  {
   "cell_type": "markdown",
   "metadata": {},
   "source": [
    "# if\n",
    "el conficional if tiene complementos como elif (sino si...) else(sino)\n",
    " resaltar la importancia de la sangria en estas estructuras \n",
    " ejemplo para comparar si un numero es par o impar"
   ]
  },
  {
   "cell_type": "code",
   "execution_count": 20,
   "metadata": {
    "scrolled": true
   },
   "outputs": [
    {
     "name": "stdout",
     "output_type": "stream",
     "text": [
      "ingresa un numero: 0\n",
      "ingresaste cero\n"
     ]
    }
   ],
   "source": [
    "num = int(input(\"ingresa un numero: \"))\n",
    "\n",
    "if num != 0: # if inicial \n",
    "\n",
    "    if num % 2 == 0: # primera sangria para identificar el codigo del primer if\n",
    "    \n",
    "        print(\"su numero es par\") # segunda sangria para este if\n",
    "    \n",
    "    else: # caso de que el segundo if sea falso\n",
    "        \n",
    "        print(\"su numero es impar\") # sangria para sus instrucciones\n",
    "else: # else del if inicial al mismo nivel del if principal\n",
    "    \n",
    "    print(\"ingresaste cero\") # sangria al mismo nivel que las instrucciones del if principal\n",
    "    "
   ]
  },
  {
   "cell_type": "code",
   "execution_count": 4,
   "metadata": {},
   "outputs": [
    {
     "name": "stdout",
     "output_type": "stream",
     "text": [
      "ingresa un numero: 8\n",
      "ingresa un numero: 54\n",
      "ingresa un numero: 544\n",
      "El numero mayor es 544\n"
     ]
    }
   ],
   "source": [
    "# comparar 3 numeros\n",
    "num = int(input(\"ingresa un numero: \"))\n",
    "num1 = int(input(\"ingresa un numero: \"))\n",
    "num2 = int(input(\"ingresa un numero: \"))\n",
    "\n",
    "mayor = num\n",
    "\n",
    "if num1 > mayor:\n",
    "    mayor = num1\n",
    "if num2 > mayor:\n",
    "    mayor = num2\n",
    "print(\"El numero mayor es\",mayor)"
   ]
  },
  {
   "cell_type": "code",
   "execution_count": 15,
   "metadata": {},
   "outputs": [
    {
     "name": "stdout",
     "output_type": "stream",
     "text": [
      "Ingresa uno de los tres colores primarios: AzuL\n",
      "eres gracioso\n"
     ]
    }
   ],
   "source": [
    "# ejemplo de uso de elif\n",
    "color = input(\"Ingresa uno de los tres colores primarios: \")\n",
    "if color.lower() == \"rojo\":\n",
    "    print(\"eres intenso\")\n",
    "elif color.lower() == \"amarillo\":\n",
    "    print(\"eres tranquilo\")\n",
    "elif color.lower() == \"azul\":\n",
    "    print(\"eres gracioso\")\n",
    "else:\n",
    "    print(\"el color que ingresaste no es uno de los 3 primarios\")\n"
   ]
  },
  {
   "cell_type": "markdown",
   "metadata": {},
   "source": [
    "se uso el metodo lower para convertir esta cadena a minuscula y asi evitar ambiguedades en el codigo\n",
    "Como extra existen en python funciones como max o min que permiten encontrar el mayor o el menor numero con los arguemtos dados"
   ]
  },
  {
   "cell_type": "code",
   "execution_count": 25,
   "metadata": {},
   "outputs": [
    {
     "name": "stdout",
     "output_type": "stream",
     "text": [
      "45656666666 1\n",
      "numero 1: 46\n",
      "numero 2: 78\n",
      "numero 3: 14\n",
      "78 14\n"
     ]
    }
   ],
   "source": [
    "# ejemplo\n",
    "lista2 = {1000,5556565,7894984,45656666666,1}\n",
    "Max = max(lista2)\n",
    "Min = min(lista2)\n",
    "print(Max,Min)\n",
    "# Tambien se le puede dar valores \n",
    "n1 = int(input(\"numero 1: \"))\n",
    "n2 = int(input(\"numero 2: \"))\n",
    "n3 = int(input(\"numero 3: \"))\n",
    "print(max(n1,n2,n3),min(n1,n2,n3))"
   ]
  },
  {
   "cell_type": "markdown",
   "metadata": {},
   "source": [
    "### While es simple, siempre que la condicion sea verdad se ejecuta en codigo despues de la tabulacion\n",
    "Mencionar q en python no existe el do while y tmbien importan las identaciones"
   ]
  },
  {
   "cell_type": "code",
   "execution_count": 26,
   "metadata": {},
   "outputs": [
    {
     "name": "stdout",
     "output_type": "stream",
     "text": [
      "\n",
      "+==================================+\n",
      "| Bienvenido a mi juego, muggle!   |\n",
      "| Introduce un número entero       |\n",
      "| y adivina qué número he          |\n",
      "| elegido para ti.                 |\n",
      "| Entonces,                        |\n",
      "| ¿Cuál es el número secreto?      |\n",
      "+==================================+\n",
      "\n",
      "Ingresa un numero entero: 546\n",
      "¡Ja, ja! ¡Estás atrapado en mi ciclo!\n",
      "Ingresa un numero entero: 478\n",
      "¡Ja, ja! ¡Estás atrapado en mi ciclo!\n",
      "Ingresa un numero entero: 654\n",
      "¡Ja, ja! ¡Estás atrapado en mi ciclo!\n",
      "Ingresa un numero entero: 777\n",
      "¡Bien hecho, muggle! Eres libre ahora\n"
     ]
    }
   ],
   "source": [
    "# While ejemplo Cisco\n",
    "numeroSecreto = 777\n",
    "\n",
    "print(\n",
    "\"\"\"\n",
    "+==================================+\n",
    "| Bienvenido a mi juego, muggle!   |\n",
    "| Introduce un número entero       |\n",
    "| y adivina qué número he          |\n",
    "| elegido para ti.                 |\n",
    "| Entonces,                        |\n",
    "| ¿Cuál es el número secreto?      |\n",
    "+==================================+\n",
    "\"\"\")\n",
    "numeroUsuario = int(input(\"Ingresa un numero entero: \"))\n",
    "while numeroUsuario != numeroSecreto:\n",
    "    \n",
    "    print(\"¡Ja, ja! ¡Estás atrapado en mi ciclo!\")\n",
    "    numeroUsuario = int(input(\"Ingresa un numero entero: \"))\n",
    "    \n",
    "print(\"¡Bien hecho, muggle! Eres libre ahora\")"
   ]
  },
  {
   "cell_type": "markdown",
   "metadata": {},
   "source": [
    "## Ciclo for \n",
    "tiene una sintaxis especial usa in luego range() y una variable i puede ser cualquier otra\n",
    "el range() representa el numero de ciclos que se haran recordar q enpieza en 0 "
   ]
  },
  {
   "cell_type": "code",
   "execution_count": 4,
   "metadata": {},
   "outputs": [
    {
     "name": "stdout",
     "output_type": "stream",
     "text": [
      "zehcnaS zehcnaS navI leugiM\n"
     ]
    }
   ],
   "source": [
    "# de una cadena podemos saber los indeces con []\n",
    "# ejemplo\n",
    "palabra = \"Miguel Ivan Sanchez Sanchez\"\n",
    "men = \"\"\n",
    "for i in range(len(palabra)):\n",
    "    men+= palabra[len(palabra)-1-i]\n",
    "    pass\n",
    "    \n",
    "print(men)"
   ]
  },
  {
   "cell_type": "markdown",
   "metadata": {},
   "source": [
    "##### Range(puede tener 3 argumentos) los dos primero inicio y fin del ciclo y el ultimo seria el incremento"
   ]
  },
  {
   "cell_type": "code",
   "execution_count": 10,
   "metadata": {},
   "outputs": [
    {
     "name": "stdout",
     "output_type": "stream",
     "text": [
      "1\n",
      "3\n",
      "5\n",
      "7\n",
      "9\n"
     ]
    }
   ],
   "source": [
    "# la palabra pass es una instruccion vacia es opcional ponerla pero sirve pra saber el fin de tu ciclo\n",
    "for i in range(1,11,2):\n",
    "    print(i)\n",
    "    pass"
   ]
  },
  {
   "cell_type": "code",
   "execution_count": null,
   "metadata": {},
   "outputs": [],
   "source": [
    "# ejemplo de for Codigo con pendiente optimizacion\n",
    "cadena = input(\"ingresa una palabra con las 5 vocales: \")\n",
    "cadena = cadena.lower()\n",
    "a,e,i,o,u = 0,0,0,0,0\n",
    "for i in range(len(cadena)):\n",
    "    if cadena[i] == \"a\" or cadena[i] == \"e\" or cadena[i] == \"i\" or cadena[i] == \"o\" or cadena[i] == \"u\":\n",
    "        op = cadena[i]\n",
    "        if op == \"a\":           \n",
    "            a+=1\n",
    "        elif op == \"e\":\n",
    "            e+=1\n",
    "        elif op == \"i\":\n",
    "             i+=1\n",
    "        elif op == \"o\":\n",
    "             o+=1\n",
    "        elif op == \"u\": \n",
    "            u+=1       \n",
    "if a==0 or e==0 or i==0 or o==0 or u==0:\n",
    "    print(\"no tiene todas las vocales\")\n",
    "else:\n",
    "    print(\"Tiene todas las vocales\""
   ]
  },
  {
   "cell_type": "markdown",
   "metadata": {},
   "source": [
    "###### Palabras claves el los ciclo tambien llamadas dulces sintácticos\n",
    "###### Break y continue \n",
    "###### Break simplemente sale del ciclo, sin respetar que este tenga mas ciclos que cumplir\n",
    "###### Continue omite las instrucciones posteriores a su ubicacion llevando el flujo del programa al inicio del ciclo\n",
    "###### Ejemplos"
   ]
  },
  {
   "cell_type": "code",
   "execution_count": 19,
   "metadata": {},
   "outputs": [
    {
     "name": "stdout",
     "output_type": "stream",
     "text": [
      "ingrese un palabra: @adfasfasd\n",
      "tu cadena tiene un @ en la posicion  1\n"
     ]
    }
   ],
   "source": [
    "# Break\n",
    "# haremos un programa que nos muestre si la cadena ingresada tiene un arroba @ si lo tiene saldra del bucle\n",
    "# tambien nos muestra la poscion del @\n",
    "cadena = input(\"ingrese un palabra: \")\n",
    "\n",
    "for i in range(len(cadena)):\n",
    "    if cadena[i]==\"@\":\n",
    "        print(\"tu cadena tiene un @ en la posicion \",i+1)\n",
    "        break\n",
    "        "
   ]
  },
  {
   "cell_type": "code",
   "execution_count": 23,
   "metadata": {},
   "outputs": [
    {
     "name": "stdout",
     "output_type": "stream",
     "text": [
      "ingresa un nombre: miguel\n",
      "lum\n"
     ]
    }
   ],
   "source": [
    "# Continue\n",
    "# un programa que invierta tu nombre borrando las vocales\n",
    "men,cadena = \"\",input(\"ingresa un nombre: \")\n",
    "\n",
    "cadena = cadena.lower()\n",
    "\n",
    "for i in range(len(cadena)):\n",
    "\n",
    "    if cadena[i] == \"a\" or cadena[i] == \"e\" or cadena[i] == \"i\" or cadena[i] == \"o\" or cadena[i] == \"u\":\n",
    "    \n",
    "        continue\n",
    "        \n",
    "    men+= cadena[len(cadena)-1-i]\n",
    "    \n",
    "print(men)\n",
    "# recordar la identacion es importante\n"
   ]
  },
  {
   "cell_type": "code",
   "execution_count": null,
   "metadata": {},
   "outputs": [],
   "source": []
  }
 ],
 "metadata": {
  "kernelspec": {
   "display_name": "Python 3",
   "language": "python",
   "name": "python3"
  },
  "language_info": {
   "codemirror_mode": {
    "name": "ipython",
    "version": 3
   },
   "file_extension": ".py",
   "mimetype": "text/x-python",
   "name": "python",
   "nbconvert_exporter": "python",
   "pygments_lexer": "ipython3",
   "version": "3.8.3"
  }
 },
 "nbformat": 4,
 "nbformat_minor": 4
}
