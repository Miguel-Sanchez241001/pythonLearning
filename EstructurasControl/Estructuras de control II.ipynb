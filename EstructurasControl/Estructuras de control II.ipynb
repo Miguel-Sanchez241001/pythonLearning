{
 "cells": [
  {
   "cell_type": "markdown",
   "metadata": {},
   "source": [
    "## Ordenamiento de una lista"
   ]
  },
  {
   "cell_type": "code",
   "execution_count": 12,
   "metadata": {},
   "outputs": [
    {
     "name": "stdout",
     "output_type": "stream",
     "text": [
      "[10, 8, 6, 4, 2]\n"
     ]
    }
   ],
   "source": [
    "miLista = [8, 10, 6, 2, 4] # lista para ordenar\n",
    "swapped = True # lo necesitamos verdadero (True) para ingresar al bucle while\n",
    "\n",
    "while swapped:\n",
    "    swapped = False # no hay swaps hasta ahora\n",
    "    for i in range(len(miLista) - 1):\n",
    "        #Nota cambiar el signo < por > altera el orden ascendente y descendente\n",
    "        if miLista[i] < miLista[i + 1]:\n",
    "            swapped= True # ocurrió el intercambio!\n",
    "            miLista[i], miLista[i + 1] = miLista[i + 1], miLista[i]\n",
    "\n",
    "print(miLista)   "
   ]
  },
  {
   "cell_type": "code",
   "execution_count": 2,
   "metadata": {},
   "outputs": [
    {
     "name": "stdout",
     "output_type": "stream",
     "text": [
      "[2, 4, 6, 8, 10]\n"
     ]
    }
   ],
   "source": [
    "miLista = [8, 10, 6, 2, 4]\n",
    "miLista.sort() \n",
    "print(miLista) "
   ]
  },
  {
   "cell_type": "code",
   "execution_count": 3,
   "metadata": {},
   "outputs": [
    {
     "name": "stdout",
     "output_type": "stream",
     "text": [
      "[5, 3, 1, 2, 4]\n",
      "[4, 2, 1, 3, 5]\n"
     ]
    }
   ],
   "source": [
    "# metodo .sort() para ordenar de forma ascendente\n",
    "# metodo reverse() para invertir las posiciones de una lista\n",
    "lst = [5, 3, 1, 2, 4]\n",
    "print(lst)\n",
    "    \n",
    "lst.reverse()\n",
    "print (lst) # salida: [4, 2, 1, 3, 5]"
   ]
  },
  {
   "cell_type": "code",
   "execution_count": 7,
   "metadata": {},
   "outputs": [
    {
     "name": "stdout",
     "output_type": "stream",
     "text": [
      "[1]\n",
      "2432022057216 2432022042560 False\n"
     ]
    }
   ],
   "source": [
    "# concepto sobre la asignacion el variables no ordinarias\n",
    "# se asigna la ubicacion de memoria no el contenido\n",
    "lista1 = [1]\n",
    "lista2 = lista1\n",
    "lista2[0] = 2\n",
    "print(lista1)\n",
    "print(id(lista1),id(lista2),id(lista1) == id(lista2))\n"
   ]
  },
  {
   "cell_type": "markdown",
   "metadata": {},
   "source": [
    "#### la asignacion el estas variables sintoniza las ubicaciones de memoria a una sola compartiendo\n",
    "#### esta direccion y haciendo que cambios tanto el lista1 como el lista2 se afecten mutuamente\n",
    "#### si comentamos la linea 4 del bloque anterior notara la direncia en los id de las varaibles"
   ]
  },
  {
   "cell_type": "code",
   "execution_count": 9,
   "metadata": {},
   "outputs": [
    {
     "name": "stdout",
     "output_type": "stream",
     "text": [
      "140710297615136 140710297615488 44\n"
     ]
    }
   ],
   "source": [
    "# en variables ordinarias no pasa esto\n",
    "var = 44 \n",
    "var2 = var\n",
    "var = 33\n",
    "print(id(var),id(var2),var2)\n",
    "# el cambio hecho en la linea 3 desvinculo la asignacion cambiando la ubicacion de memoria esto no pasa con las listas"
   ]
  },
  {
   "cell_type": "markdown",
   "metadata": {},
   "source": [
    "#### Metodo de la rodaja : copia el contenido de la lista mas no su direccion de memoria [:]"
   ]
  },
  {
   "cell_type": "code",
   "execution_count": 11,
   "metadata": {},
   "outputs": [
    {
     "name": "stdout",
     "output_type": "stream",
     "text": [
      "[1]\n",
      "[10, 8, 6, 4]\n"
     ]
    }
   ],
   "source": [
    "# ejemplo\n",
    "# Copiando toda la lista\n",
    "lista1 = [1]\n",
    "lista2 = lista1[:]\n",
    "lista1[0] = 2\n",
    "print(lista2)\n",
    "\n",
    "# Copiando parte de la lista\n",
    "miLista = [10, 8, 6, 4, 2]\n",
    "nuevaLista = miLista[0:4]\n",
    "miLista[0]=11 \n",
    "print(nuevaLista)"
   ]
  },
  {
   "cell_type": "code",
   "execution_count": 13,
   "metadata": {},
   "outputs": [
    {
     "name": "stdout",
     "output_type": "stream",
     "text": [
      "[10, 4, 2]\n"
     ]
    }
   ],
   "source": [
    "# Rodaja para la eliminacion con inicio y fin\n",
    "miLista = [10, 8, 6, 4, 2]\n",
    "del miLista[1:3] # nota sino se ponde inicio o fin eliminara el contenido de la lista mas no la lista\n",
    "print(miLista) # cabe mencionar que del milista elimina la lista en si\n",
    "# nota el indice de fin indica la posicion que no se toma en cuenta"
   ]
  },
  {
   "cell_type": "code",
   "execution_count": 18,
   "metadata": {},
   "outputs": [
    {
     "name": "stdout",
     "output_type": "stream",
     "text": [
      "17\n"
     ]
    }
   ],
   "source": [
    "# comparacion de elementos de una lista\n",
    "miLista = [17, 3, 11, 5, 1, 9, 7, 15, 13]\n",
    "mayor = miLista [0]\n",
    "\n",
    "for i in miLista [1:]:\n",
    "    if i > mayor:\n",
    "        mayor = i\n",
    "\n",
    "print(mayor)"
   ]
  },
  {
   "cell_type": "code",
   "execution_count": 19,
   "metadata": {},
   "outputs": [
    {
     "name": "stdout",
     "output_type": "stream",
     "text": [
      "0\n",
      "1\n",
      "2\n",
      "3\n",
      "4\n",
      "5\n",
      "6\n",
      "7\n",
      "8\n",
      "9\n"
     ]
    }
   ],
   "source": [
    "for i in range(10):\n",
    "    print(i)"
   ]
  },
  {
   "cell_type": "code",
   "execution_count": 20,
   "metadata": {},
   "outputs": [
    {
     "name": "stdout",
     "output_type": "stream",
     "text": [
      "La lista solo con elementos únicos:\n",
      "[1, 2, 4, 6, 9]\n"
     ]
    }
   ],
   "source": [
    "# Programa que elimina las repeticiones de una lista\n",
    "miLista = [1, 2, 4, 4, 1, 4, 2, 6, 2, 9]\n",
    "listaAux = miLista[:]\n",
    "for i in miLista:\n",
    "    listaAux = miLista[:]\n",
    "    del listaAux[i]\n",
    "    if miLista[i] in listaAux:\n",
    "        del miLista[i]\n",
    "    \n",
    "miLista.sort()  \n",
    "print(\"La lista solo con elementos únicos:\")\n",
    "print(miLista)\n"
   ]
  },
  {
   "cell_type": "code",
   "execution_count": 21,
   "metadata": {},
   "outputs": [
    {
     "name": "stdout",
     "output_type": "stream",
     "text": [
      "[0, 1, 4, 9, 16, 25, 36, 49, 64, 81]\n",
      "[1, 9, 25, 49, 81]\n"
     ]
    }
   ],
   "source": [
    "# completado de una lista\n",
    "cuadrados = [x ** 2 for x in range(10)]\n",
    "probabilidades = [x for x in cuadrados if x % 2 != 0]\n",
    "print(cuadrados,probabilidades,sep = \"\\n\")"
   ]
  },
  {
   "cell_type": "code",
   "execution_count": null,
   "metadata": {},
   "outputs": [],
   "source": []
  }
 ],
 "metadata": {
  "kernelspec": {
   "display_name": "Python 3",
   "language": "python",
   "name": "python3"
  },
  "language_info": {
   "codemirror_mode": {
    "name": "ipython",
    "version": 3
   },
   "file_extension": ".py",
   "mimetype": "text/x-python",
   "name": "python",
   "nbconvert_exporter": "python",
   "pygments_lexer": "ipython3",
   "version": "3.8.3"
  }
 },
 "nbformat": 4,
 "nbformat_minor": 4
}
