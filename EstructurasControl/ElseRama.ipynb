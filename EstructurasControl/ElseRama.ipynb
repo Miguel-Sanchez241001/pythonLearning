{
 "cells": [
  {
   "cell_type": "markdown",
   "metadata": {},
   "source": [
    "#### Rama else de los bucles se ejecuta una vez siempre"
   ]
  },
  {
   "cell_type": "code",
   "execution_count": 3,
   "metadata": {},
   "outputs": [
    {
     "name": "stdout",
     "output_type": "stream",
     "text": [
      "0\n",
      "1\n",
      "2\n",
      "3\n",
      "4\n",
      "else: 4\n"
     ]
    }
   ],
   "source": [
    "# al ser i menor a 5 osea 4 con el incremento por defecto que es uno else imprime ese ultimo valor de i\n",
    "for i in range(5):\n",
    "    print(i)\n",
    "else:\n",
    "    print(\"else:\",i)"
   ]
  },
  {
   "cell_type": "code",
   "execution_count": 4,
   "metadata": {},
   "outputs": [
    {
     "name": "stdout",
     "output_type": "stream",
     "text": [
      "1\n",
      "2\n",
      "3\n",
      "4\n",
      "else: 5\n"
     ]
    }
   ],
   "source": [
    "# en este bucle while pasa lo mismo una vez la condicion sea Falsa se ejecuta la rama else\n",
    "i = 1\n",
    "while i < 5:\n",
    "    print (i)\n",
    "    i += 1\n",
    "else:\n",
    "    print(\"else:\", i)"
   ]
  },
  {
   "cell_type": "markdown",
   "metadata": {},
   "source": [
    "#### Interesante algoritmo que comvierte a un numero en 1"
   ]
  },
  {
   "cell_type": "code",
   "execution_count": 9,
   "metadata": {},
   "outputs": [
    {
     "name": "stdout",
     "output_type": "stream",
     "text": [
      "ingresa un numero: 15\n",
      "46\n",
      "23\n",
      "70\n",
      "35\n",
      "106\n",
      "53\n",
      "160\n",
      "80\n",
      "40\n",
      "20\n",
      "10\n",
      "5\n",
      "16\n",
      "8\n",
      "4\n",
      "2\n",
      "1\n",
      "pasos = 17\n"
     ]
    }
   ],
   "source": [
    "pasos = 0\n",
    "while True:\n",
    "    c0 = int(input(\"ingresa un numero: \"))\n",
    "    if c0 <=0:\n",
    "        print(\"ingresa un numero mayor que cero\")\n",
    "    else:\n",
    "        break\n",
    "    pass\n",
    "        \n",
    "while True:\n",
    "    if c0 % 2==0:\n",
    "        c0 = c0/2\n",
    "    else:\n",
    "        c0 = 3*c0 + 1\n",
    "    \n",
    "    pasos+=1\n",
    "    print(int(c0))\n",
    "    if c0 == 1:\n",
    "        break\n",
    "    pass\n",
    "\n",
    "print(\"pasos =\",pasos)"
   ]
  },
  {
   "cell_type": "code",
   "execution_count": 16,
   "metadata": {},
   "outputs": [
    {
     "name": "stdout",
     "output_type": "stream",
     "text": [
      "P*y*t*h*o*n*"
     ]
    }
   ],
   "source": [
    "# esta es una forma de recorrer una cadena \n",
    "palabra = \"Python\"\n",
    "for letter in palabra:\n",
    "    print(letter, end = \"*\")"
   ]
  },
  {
   "cell_type": "code",
   "execution_count": 26,
   "metadata": {},
   "outputs": [
    {
     "name": "stdout",
     "output_type": "stream",
     "text": [
      "2-4-6-8-10-12-14-16-18-20-22-24-26-28-30-32-34-36-38-40-42-44-46-48-50-52-54-56-58-60-62-64-66-68-70-72-74-76-78-80-82-84-86-88-90-92-94-96-98-100-"
     ]
    }
   ],
   "source": [
    "# imprimiendo los primeros 100 numeros pares\n",
    "# Recordar sintaxis de range = range(start, stop, step),\n",
    "for i in range(1, 101):\n",
    "    if i % 2 == 0:print(i,end =\"-\")"
   ]
  },
  {
   "cell_type": "code",
   "execution_count": 28,
   "metadata": {},
   "outputs": [
    {
     "name": "stdout",
     "output_type": "stream",
     "text": [
      "[3, 5, 7]\n"
     ]
    }
   ],
   "source": [
    "# del para eliminar indices\n",
    "lista = [3,5,7,7]\n",
    "del lista[3]\n",
    "print(lista)"
   ]
  },
  {
   "cell_type": "code",
   "execution_count": null,
   "metadata": {},
   "outputs": [],
   "source": []
  }
 ],
 "metadata": {
  "kernelspec": {
   "display_name": "Python 3",
   "language": "python",
   "name": "python3"
  },
  "language_info": {
   "codemirror_mode": {
    "name": "ipython",
    "version": 3
   },
   "file_extension": ".py",
   "mimetype": "text/x-python",
   "name": "python",
   "nbconvert_exporter": "python",
   "pygments_lexer": "ipython3",
   "version": "3.8.3"
  }
 },
 "nbformat": 4,
 "nbformat_minor": 4
}
