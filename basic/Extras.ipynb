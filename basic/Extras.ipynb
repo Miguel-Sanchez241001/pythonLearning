{
 "cells": [
  {
   "cell_type": "code",
   "execution_count": 6,
   "metadata": {},
   "outputs": [
    {
     "name": "stdout",
     "output_type": "stream",
     "text": [
      "Hola 18 True\n",
      "hola mundo 2014\n"
     ]
    }
   ],
   "source": [
    "# asignacion multiple\n",
    "a , b , c = \"Hola\",18,True\n",
    "print(a,b,c) # Hola 18 True\n",
    "# otro ejemplo\n",
    "mi_tupla = ('hola mundo', 2014) \n",
    "texto, anio = mi_tupla \n",
    "print(texto,anio)"
   ]
  },
  {
   "cell_type": "code",
   "execution_count": null,
   "metadata": {},
   "outputs": [],
   "source": [
    "# nota en python no existe el switch osea el segun "
   ]
  },
  {
   "cell_type": "code",
   "execution_count": null,
   "metadata": {},
   "outputs": [],
   "source": []
  }
 ],
 "metadata": {
  "kernelspec": {
   "display_name": "Python 3",
   "language": "python",
   "name": "python3"
  },
  "language_info": {
   "codemirror_mode": {
    "name": "ipython",
    "version": 3
   },
   "file_extension": ".py",
   "mimetype": "text/x-python",
   "name": "python",
   "nbconvert_exporter": "python",
   "pygments_lexer": "ipython3",
   "version": "3.8.3"
  }
 },
 "nbformat": 4,
 "nbformat_minor": 4
}
