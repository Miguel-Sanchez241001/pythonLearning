{
 "cells": [
  {
   "cell_type": "code",
   "execution_count": 2,
   "metadata": {},
   "outputs": [],
   "source": [
    "### Variables\n",
    "## aceptadas por python\n"
   ]
  },
  {
   "cell_type": "code",
   "execution_count": 7,
   "metadata": {},
   "outputs": [
    {
     "name": "stdout",
     "output_type": "stream",
     "text": [
      "Julio mendoza torres artiaga <class 'complex'>\n",
      "Julio mendozatorres artiaga<class 'complex'>\n",
      "HolaHolaHola\n"
     ]
    }
   ],
   "source": [
    "#Deben empezar por una letra el (_) se considera una letra, puede contener numeros y mayusculas\n",
    "#python si diferencia entre mayusculas y minisculas MiNombre no es igual a minombre\n",
    "_x = 14.5 + 3.2j  \n",
    "var2 =str(type(_x)) # conversion de tipo para usar el operador + para concatenar cadenas en el segundo print\n",
    "Minombre = 'Julio mendoza'\n",
    "minombre = 'torres artiaga'\n",
    "print(Minombre,minombre,var2) # se puede concatenar con las comas ',' \n",
    "print(Minombre+minombre+var2) # para concatenar con + solo puden ser objetos tipo str osea cadenas\n",
    "# Extra tambien se puede multiplicar cadenas de texto\n",
    "# ejemplo\n",
    "var = \"Hola\"\n",
    "var*=3\n",
    "print(var)"
   ]
  },
  {
   "cell_type": "code",
   "execution_count": null,
   "metadata": {},
   "outputs": [],
   "source": [
    "## Operadores \n",
    "# Concatenacion de cadenas +\n",
    "var = 'hola'\n",
    "var1 = 'mundo'\n",
    "var2 = \", buenas noches\"\n",
    "mensaje = var + ' '+ var1  + var2\n",
    "print(mensaje)\n",
    "#simple solo agrupamos las cadenas "
   ]
  },
  {
   "cell_type": "code",
   "execution_count": null,
   "metadata": {},
   "outputs": [],
   "source": [
    "# logicos\n",
    "# primera clase and or not estos operadores NO devuelven si el resultado es True o False devuelven el operando que cumple con \n",
    "# el operador\n",
    "# ejemplo\n",
    "# operador and datos tipo numericos\n",
    "var = 0\n",
    "var1 = 10\n",
    "var2 = 20\n",
    "var and var1 # esto devuelve 0 porque al ser and las dos condiciones tiene que cumplirse\n",
    "# python considera el 0 como falso y todo numero diferente del 0 como verdadero\n",
    "var2 and var1 # este caso devuelve var1 siempre q no exista 0 en un operador and el valor a devolverse sera el derecho\n",
    "# podemos conocer el tipo de la respuesta\n",
    "type(var and var1) # notese que el resultado es un int\n",
    "# estos operadores solo devuelven un valor de los operandos segun la operacion\n",
    "# el operador sigue las mismas reglas q el conector logico y\n",
    "# datos tipo bool\n",
    "v = True \n",
    "f = False\n",
    "r = v and f\n",
    "print(type(r),r)"
   ]
  },
  {
   "cell_type": "code",
   "execution_count": null,
   "metadata": {},
   "outputs": [],
   "source": [
    "#operador not\n",
    "# simplemente convierte la expresion en su opuesto si es True a Falso \n",
    "# en caso de numero si son diferentes de 0 los convierte a falso porque python considera a esto numeros True\n",
    "# algo asi lo entendi para mas informacion revisar https://j2logo.com/python/tutorial/operadores-en-python/#operadores-cadenas\n",
    "# ejemplos\n",
    "var = 10\n",
    "var1 = 0\n",
    "var2 = var and var1 # comparamos el resultado seria 0 porque como dijimos no devuelve true o false solo el operando que cumple\n",
    "r = not var2 # aplicamos el not , notese que el resultado es un numero de tipo entero si desea puede comprobarlo\n",
    "# ejecutar este codigo para comprobar type(var2)\n",
    "print(r) # ahora r es un dato tipo bool de valor True ya que el 0 de var2 fue invertido\n",
    "# esto tambien se puede aplicar a operados bool\n",
    "v = 1<3 and 16>5 # aca aplicamos la obtencion de un dato bool por resultado de una expresion \n",
    "print(type(v),v,not v) # obtenemos el tipo de dato de v ,obtenemos el v antes de ser negado y el v negado\n"
   ]
  },
  {
   "cell_type": "code",
   "execution_count": null,
   "metadata": {},
   "outputs": [],
   "source": [
    "# operador or\n",
    "# funciona como el o logico reordando que devuelveel valor que cumple con el operdor no devuelve true o false\n",
    "# ejemplo\n",
    "var = 1\n",
    "var1 = 0\n",
    "var1 or var  # esto devulve 1 ya q el 0 es falso como se dijo anteriormente\n",
    "var3 = 165\n",
    "r = var3 or var # en este caso si los 2 operando es decir var3 y var son diferentes de 0 y no son falsos \n",
    "# se devuelve el valor de la izquierda\n",
    "type(r) # devuleve el operando que cumple la operacion en este caso devuelve el valor de var3 que es un entero\n",
    "print(r)\n",
    "# un ejemplo con valores bool\n",
    "v = True\n",
    "f = False\n",
    "r = f or v # al funcionar como un operador \" o \" logico devuelve el valor de verdad si al menos este existe\n",
    "print(r)\n",
    "\n"
   ]
  },
  {
   "cell_type": "code",
   "execution_count": null,
   "metadata": {},
   "outputs": [],
   "source": [
    "#operdores de comparacion\n",
    "# el resultado de estos operadores siempres es True o False\n",
    "# Estos son los siguentes:\n",
    "# < , > , <= ,>= , == ,!=\n",
    "# cabe mensionar que el operador == es equivalente a el is pero el la comparacion de objetos\n",
    "# ejemplos\n",
    "a = 10\n",
    "b = 2\n",
    "r = a<b # este resultado nos da False\n",
    "print(type(r),r) # aca vemos el tipo de respuesta y la respuesta\n",
    "# >\n",
    "a = 1.5\n",
    "b = 0.5\n",
    "r = a>b\n",
    "print(type(r),r)\n",
    "# <= menor o igual\n",
    "r = a<=1.52\n",
    "print(type(r),r) \n",
    "# >=\n",
    "r = b >= 0.5\n",
    "print(type(r),r)\n",
    "# == o is\n",
    "r = b == a-1 # notese q en esto casos los operandos pueden tener operaciones\n",
    "print(type(r),r)\n",
    "c = 4\n",
    "b = 5\n",
    "r = b is c+1 # en este caso is funciona correctamente para enteros pero para decimales da problemas asi lo veo\n",
    "print(type(r),r)\n",
    "# por ulimo el operador != es simplemente comparacion de diferencia\n",
    "r = c != b\n",
    "print(type(r),r)"
   ]
  },
  {
   "cell_type": "code",
   "execution_count": null,
   "metadata": {},
   "outputs": [],
   "source": []
  },
  {
   "cell_type": "code",
   "execution_count": null,
   "metadata": {},
   "outputs": [],
   "source": []
  }
 ],
 "metadata": {
  "kernelspec": {
   "display_name": "Python 3",
   "language": "python",
   "name": "python3"
  },
  "language_info": {
   "codemirror_mode": {
    "name": "ipython",
    "version": 3
   },
   "file_extension": ".py",
   "mimetype": "text/x-python",
   "name": "python",
   "nbconvert_exporter": "python",
   "pygments_lexer": "ipython3",
   "version": "3.8.3"
  }
 },
 "nbformat": 4,
 "nbformat_minor": 2
}
