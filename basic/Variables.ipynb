{
 "metadata": {
  "language_info": {
   "codemirror_mode": {
    "name": "ipython",
    "version": 3
   },
   "file_extension": ".py",
   "mimetype": "text/x-python",
   "name": "python",
   "nbconvert_exporter": "python",
   "pygments_lexer": "ipython3",
   "version": "3.8.3-final"
  },
  "orig_nbformat": 2,
  "kernelspec": {
   "name": "Python 3.8.3 64-bit (conda)",
   "display_name": "Python 3.8.3 64-bit (conda)",
   "metadata": {
    "interpreter": {
     "hash": "374be8c39ae01ff66328729506a9b9a7ba9eb3f2df141c8f3098ad96d8cc6bdd"
    }
   }
  }
 },
 "nbformat": 4,
 "nbformat_minor": 2,
 "cells": [
  {
   "cell_type": "code",
   "execution_count": null,
   "metadata": {},
   "outputs": [],
   "source": [
    "### Variables\n",
    "## aceptadas por python\n"
   ]
  },
  {
   "cell_type": "code",
   "execution_count": 9,
   "metadata": {},
   "outputs": [
    {
     "output_type": "stream",
     "name": "stdout",
     "text": [
      "Julio mendoza torres artiaga <class 'complex'>\nJulio mendozatorres artiaga<class 'complex'>\n"
     ]
    }
   ],
   "source": [
    "#Deben empezar por una letra el (_) se considera una letra, puede contener numeros y mayusculas\n",
    "#python si diferencia entre mayusculas y minisculas MiNombre no es igual a minombre\n",
    "_x = 14.5 + 3.2j  \n",
    "var2 =str(type(_x)) # conversion de tipo para usar el operador + para concatenar cadenas en el segundo print\n",
    "Minombre = 'Julio mendoza'\n",
    "minombre = 'torres artiaga'\n",
    "print(Minombre,minombre,var2) # se puede concatenar con las comas ',' \n",
    "print(Minombre+minombre+var2) # para concatenar con + solo puden ser objetos tipo str osea cadenas\n"
   ]
  },
  {
   "cell_type": "code",
   "execution_count": 10,
   "metadata": {},
   "outputs": [
    {
     "output_type": "stream",
     "name": "stdout",
     "text": [
      "hola mundo, buenas noches\n"
     ]
    }
   ],
   "source": [
    "## Operadores \n",
    "# Concatenacion de cadenas +\n",
    "var = 'hola'\n",
    "var1 = 'mundo'\n",
    "var2 = \", buenas noches\"\n",
    "mensaje = var + ' '+ var1  + var2\n",
    "print(mensaje)\n",
    "#simple solo agrupamos las cadenas "
   ]
  },
  {
   "cell_type": "code",
   "execution_count": 91,
   "metadata": {},
   "outputs": [
    {
     "output_type": "stream",
     "name": "stdout",
     "text": [
      "<class 'bool'> False\n"
     ]
    }
   ],
   "source": [
    "# logicos\n",
    "# primera clase and or not estos operadores NO devuelven si el resultado es True o False devuelven el operando que cumple con \n",
    "# el operador\n",
    "# ejemplo\n",
    "# operador and datos tipo numericos\n",
    "var = 0\n",
    "var1 = 10\n",
    "var2 = 20\n",
    "var and var1 # esto devuelve 0 porque al ser and las dos condiciones tiene que cumplirse\n",
    "# python considera el 0 como falso y todo numero diferente del 0 como verdadero\n",
    "var2 and var1 # este caso devuelve var1 siempre q no exista 0 en un operador and el valor a devolverse sera el derecho\n",
    "# podemos conocer el tipo de la respuesta\n",
    "type(var and var1) # notese que el resultado es un int\n",
    "# estos operadores solo devuelven un valor de los operandos segun la operacion\n",
    "# el operador sigue las mismas reglas q el conector logico y\n",
    "# datos tipo bool\n",
    "v = True \n",
    "f = False\n",
    "r = v and f\n",
    "print(type(r),r)"
   ]
  },
  {
   "cell_type": "code",
   "execution_count": 97,
   "metadata": {},
   "outputs": [
    {
     "output_type": "stream",
     "name": "stdout",
     "text": [
      "True\n<class 'bool'> True False\n"
     ]
    }
   ],
   "source": [
    "#operador not\n",
    "# simplemente convierte la expresion en su opuesto si es True a Falso \n",
    "# en caso de numero si son diferentes de 0 los convierte a falso porque python considera a esto numeros True\n",
    "# algo asi lo entendi para mas informacion revisar https://j2logo.com/python/tutorial/operadores-en-python/#operadores-cadenas\n",
    "# ejemplos\n",
    "var = 10\n",
    "var1 = 0\n",
    "var2 = var and var1 # comparamos el resultado seria 0 porque como dijimos no devuelve true o false solo el operando que cumple\n",
    "r = not var2 # aplicamos el not , notese que el resultado es un numero de tipo entero si desea puede comprobarlo\n",
    "# ejecutar este codigo para comprobar type(var2)\n",
    "print(r) # ahora r es un dato tipo bool de valor True ya que el 0 de var2 fue invertido\n",
    "# esto tambien se puede aplicar a operados bool\n",
    "v = 1<3 and 16>5 # aca aplicamos la obtencion de un dato bool por resultado de una expresion \n",
    "print(type(v),v,not v) # obtenemos el tipo de dato de v ,obtenemos el v antes de ser negado y el v negado\n"
   ]
  },
  {
   "cell_type": "code",
   "execution_count": null,
   "metadata": {},
   "outputs": [],
   "source": []
  }
 ]
}