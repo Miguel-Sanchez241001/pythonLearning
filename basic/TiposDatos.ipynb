{
 "cells": [
  {
   "cell_type": "markdown",
   "metadata": {},
   "source": [
    "# Tipo de Datos\n",
    "## Booleanos\n",
    "\n",
    "## Numericos\n",
    "\n",
    " enteros, punto flotante, complejos\n",
    " \n",
    "## Cadenas de texto\n",
    "\n"
   ]
  },
  {
   "cell_type": "code",
   "execution_count": 6,
   "metadata": {},
   "outputs": [
    {
     "name": "stdout",
     "output_type": "stream",
     "text": [
      "<class 'int'>\n",
      "33\n"
     ]
    }
   ],
   "source": [
    "#Datos numericos\n",
    "#metodos de creacion como literal resultado o una funcion\n",
    "# enteros 1 , 2 ,5 ,8 ,845165\n",
    "# var = 1234567890123456789\n",
    "var = 1 # literal\n",
    "var += 1 # resultado\n",
    "type(var)\n",
    "#Notaciones para la base de un numero\n",
    "# 0o para un nuemro en base 8\n",
    "once = 11\n",
    "# base 2\n",
    "onceO = 0o13 # funcion\n",
    "# base 16 Hexadecimal\n",
    "onceH = 0xb\n",
    "# prueba al sumar los 3 deberia darnos 33\n",
    "resultado = once +onceO + onceH\n",
    "print(type(resultado))\n",
    "print(resultado) "
   ]
  },
  {
   "cell_type": "code",
   "execution_count": 28,
   "metadata": {},
   "outputs": [
    {
     "name": "stdout",
     "output_type": "stream",
     "text": [
      "1.78\n",
      "1230.03\n"
     ]
    }
   ],
   "source": [
    "# numericos punto flotante python los denomina float\n",
    "# 12.5 , 16.8 , 0.1456\n",
    "# division de numeros decimales y de decimales con enteros da como resultado un decimal\n",
    "var = 0.5/0.5 #resutado es 1.0\n",
    "type(var) # si vemos el tipo nos dia q es float\n",
    "var =  0.5/35 # resultado un decimal 0.014.......\n",
    "var = 35/0.5 \n",
    "# ahora para la suma de decimales usar un formato para evitar la aproximacion por python\n",
    "# ejemplo \n",
    "var = 1.2 + 0.58 # resultado esperado 1.78 resultado obtenido 1.7799999999999998\n",
    "# solucion print(f'{var:.2f}') notese que se usa un formato para aproximar el valor de la variable en este caso a 2 decimales\n",
    "aux = f'{(1.2+0.58):.2f}'\n",
    "print( aux ) # Obtiene 1.78\n",
    "# extra expresion de variables en notacion cientifica\n",
    "var = 1.23E3 # 1230.0 en notacion\n",
    "aux = f'{(var + 0.03):.2f}'\n",
    "print( aux ) # resultado 1230.03"
   ]
  },
  {
   "cell_type": "code",
   "execution_count": 37,
   "metadata": {},
   "outputs": [
    {
     "data": {
      "text/plain": [
       "float"
      ]
     },
     "execution_count": 37,
     "metadata": {},
     "output_type": "execute_result"
    }
   ],
   "source": [
    "#Numeros complejos\n",
    "#conformados por una parte real y otra compleja 10+2j asi\n",
    "numC = 10 + 4j\n",
    "type(numC) # el tipo de dato para nunC es complex\n",
    "# ejemplo de suma\n",
    "#comC = numC + 12.5 # obtenemos (22.5+4j) sumando solo parte real\n",
    "comC = numC + 12.5j # obtenemos (10+16.5j) sumando solo parte entera cabe mencionar que ahora comC es un complex\n",
    "#para saber las partes del complex podemos usar las funciones real e imag\n",
    "comC.real # devuelve el real del numero complejo \n",
    "type(comC.real) # comprobacion devuelve float\n",
    "comC.imag # devuelde 16.5 solo el cociente del imaginario pero lo devuelve como real\n",
    "type(comC.imag)# comprobacion float"
   ]
  },
  {
   "cell_type": "code",
   "execution_count": 50,
   "metadata": {},
   "outputs": [
    {
     "data": {
      "text/plain": [
       "bool"
      ]
     },
     "execution_count": 50,
     "metadata": {},
     "output_type": "execute_result"
    }
   ],
   "source": [
    "#booleanos \n",
    "var = 1<2 # por resultado\n",
    "type(var) # comprobacion bool\n",
    "vare = 0\n",
    "varE = False\n",
    "compe = vare == varE and type(vare) is type(varE) # por expresion devuelve falso\n",
    "type(compe) #devuelve bool"
   ]
  },
  {
   "cell_type": "code",
   "execution_count": 1,
   "metadata": {},
   "outputs": [
    {
     "name": "stdout",
     "output_type": "stream",
     "text": [
      "Hola \"Pythonista\"\n",
      "adios\n"
     ]
    }
   ],
   "source": [
    "#Cadenas de texto\n",
    "# para colocar cadenas de texto solo es necesario inckuir entre comillas simples o dobles la cadena y listo\n",
    "# Aun nose mucho en que caso se usa el concepto de sus usos exclusivos\n",
    "#Las cadenas pertenecen al tipo str nada mas dire xD\n",
    "hola = 'Hola \"Pythonista\"'\n",
    "hola1 = 'Hola \\'Pythonista\\''# usar \\ para indicar que continua la cadena de texto como en este ejemplo\n",
    "hola3 = \"Hola \\\"Pythonista\\\"\"\n",
    "print(hola3) # devuelve Hola \"Pythonista\"\n",
    "type(hola3)# str\n",
    "print(\"adios\")\n",
    "\n",
    "\n",
    "\n"
   ]
  },
  {
   "cell_type": "code",
   "execution_count": null,
   "metadata": {},
   "outputs": [],
   "source": []
  }
 ],
 "metadata": {
  "kernelspec": {
   "display_name": "Python 3",
   "language": "python",
   "name": "python3"
  },
  "language_info": {
   "codemirror_mode": {
    "name": "ipython",
    "version": 3
   },
   "file_extension": ".py",
   "mimetype": "text/x-python",
   "name": "python",
   "nbconvert_exporter": "python",
   "pygments_lexer": "ipython3",
   "version": "3.8.3"
  }
 },
 "nbformat": 4,
 "nbformat_minor": 4
}
