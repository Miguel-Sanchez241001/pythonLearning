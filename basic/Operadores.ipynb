{
 "cells": [
  {
   "cell_type": "markdown",
   "metadata": {},
   "source": [
    "# Operadores \n",
    "## Aritmeticos, bits, asignacion, pertenencia, identidad \n",
    "\n"
   ]
  },
  {
   "cell_type": "code",
   "execution_count": 1,
   "metadata": {
    "tags": []
   },
   "outputs": [
    {
     "output_type": "stream",
     "name": "stdout",
     "text": "representacion de // 2 2.5 1024\nuso de operadores 15 12.7 128 64 0\n"
    }
   ],
   "source": [
    "# Aritmeticos\n",
    "# simple tenemos los clasicos suma + , resta - , multiplicacion * , division /, modulo %\n",
    "# extras potencia ** base**exponente ejemplo 5**4 = 625, division entera // \n",
    "# obtiene el cociente entero de una division ejemplo 10 // 4 esto seria 2 ya que el de resultado 2.5 toma solo la parte entera  \n",
    "a = 10 // 4\n",
    "b = 10 / 4\n",
    "c = a**10\n",
    "print(\"representacion de //\",a,b,c)\n",
    "# el resto de operdores funcionan normal\n",
    "# ejemplos\n",
    "a = 10 + 5\n",
    "b = a - 2.3\n",
    "c = int(b * 10 + 1) # notese que tambien se respeta la jerarquia de operaciones en estos casos\n",
    "d = int(c / 2) # notese que el resultado de toda division es un dato tipo float puede convertirlo a int usando el int(dato)\n",
    "e = d % 2\n",
    "print(\"uso de operadores\",a,b,c,d,e)"
   ]
  },
  {
   "cell_type": "markdown",
   "metadata": {},
   "source": [
    "# nivel de bits\n",
    "### 2 en bits en grupo de 5 00010\n",
    "### Nota se puede usar la funcion bin() para convertir un numero a binario ejemplo bin(2) \n",
    "### notese que lo que devuelve esta funcion\n",
    "### no es un numero es un str type(bin(2))"
   ]
  },
  {
   "cell_type": "code",
   "execution_count": 15,
   "metadata": {
    "tags": []
   },
   "outputs": [
    {
     "output_type": "stream",
     "name": "stdout",
     "text": "0b1001 <class 'int'> 9\n<class 'str'> 9\n"
    }
   ],
   "source": [
    "# and en bits \" & \" \n",
    "# Este operador compara caba bit del numero y funciona igual que el operador logico and devuelve el valor que cumple la operacion cabe resaltar que el resultado de la operacion es un entero\n",
    "# 1 & 0 = 0 ---- 1 & 1 = 1 ----- 0 & 0 = 0\n",
    "a = 13 #0b1101 # 13\n",
    "b = 11 #0b1011 # 11\n",
    "print(bin(a & b),type(a & b),a & b)\n",
    "\"\"\"\"probando si podemos convertir el resultado de la funcion bin que es str\n",
    "\n",
    "\"\"\"\n",
    "h = bin(a & b)\n",
    "\n",
    "print(type(bin(a & b)),int(h[2:6],2))"
   ]
  },
  {
   "cell_type": "code",
   "execution_count": 52,
   "metadata": {},
   "outputs": [
    {
     "name": "stdout",
     "output_type": "stream",
     "text": [
      "0b1111\n"
     ]
    }
   ],
   "source": [
    "# Operador or en bits |\n",
    "# Este operador compra caba bit del numero y funciona igual que el operador logico or devuelve el valor que cumple la operacion\n",
    "# 1 | 0 = 1 ----- 1| 1 = 1 ------ 0 | 0 = 0\n",
    "a = 0b1101 # 13\n",
    "b = 0b1011 # 11\n",
    "print(bin(a | b)) #0b1111 15\n"
   ]
  },
  {
   "cell_type": "code",
   "execution_count": 68,
   "metadata": {},
   "outputs": [
    {
     "name": "stdout",
     "output_type": "stream",
     "text": [
      "0b11 3\n"
     ]
    }
   ],
   "source": [
    "# operador not en binario ~\n",
    "# este operador convierte en el numero en su opuesto convirtiendo 0 en 1 y viceversa pero lo hace por complemento a uno\n",
    "# en otras palabras pasa cada numero a negativo con la diferencia que le agrega un -1\n",
    "a = -3\n",
    "print(bin(~a+1),~a+1) # una solucion simple seria +1 y se obtendria lo que se espera recordar que es un numero binario negado\n",
    "# funciona de negativo a positivo y vicerversa"
   ]
  },
  {
   "cell_type": "code",
   "execution_count": 71,
   "metadata": {},
   "outputs": [
    {
     "name": "stdout",
     "output_type": "stream",
     "text": [
      "0b1100 12 10 6 <class 'int'>\n"
     ]
    }
   ],
   "source": [
    "# Operador or exclusivo ^\n",
    "# este operador solo devuelve 1 si en los operando al menos hay uno que sea 1 el 0 es para la igualda de operandos\n",
    "# 0b0110 = 6 ------ 0b1010 = 10\n",
    "x = 0b0110 ^ 0b1010\n",
    "print(bin(x),x,int(0b1010),int(0b0110),type(0b0110))\n",
    "# 0 xor 1 = 1\n",
    "# 1 xor 0 = 1\n",
    "# 1 xor 1 = 0\n",
    "# 0 xor 0 = 0\n",
    "# 0b1100"
   ]
  },
  {
   "cell_type": "code",
   "execution_count": 74,
   "metadata": {},
   "outputs": [
    {
     "name": "stdout",
     "output_type": "stream",
     "text": [
      "0b10 2\n",
      "0b100000 32\n"
     ]
    }
   ],
   "source": [
    "# dezplamiento de bits \n",
    "# derecha mueve cada bits n posiciones x >> n\n",
    "a=0b1000 # 8\n",
    "print(bin(a>>2),int(a>>2)) # 0b10\n",
    "# izquierda funciona igual solo que en sentido contrario x << n\n",
    "print(bin(a<<2),int(a<<2))"
   ]
  },
  {
   "cell_type": "code",
   "execution_count": 11,
   "metadata": {},
   "outputs": [
    {
     "name": "stdout",
     "output_type": "stream",
     "text": [
      "2\n"
     ]
    }
   ],
   "source": [
    "# algunos operadores para asignaciones\n",
    "# la funcion de estos operadores es aplicar una operacion y asignacion al mismo tiempo para para una variable\n",
    "# las operaciones son las mismas descritas anteriormente solo que se agrega le simbolo =\n",
    "# Ejemplo \n",
    "i = 0\n",
    "i+=2 # esto representa que selecciono el valor anterior de i (en este caso 0) y le sumo el 2 para tener un nuevo valor en i\n",
    "print(i) # el procedimiento es analogo con todos los operdores -=, *=, /=,//=,**=,%=,&=,|=,^=,<<=,>>="
   ]
  },
  {
   "cell_type": "code",
   "execution_count": 16,
   "metadata": {
    "tags": []
   },
   "outputs": [
    {
     "output_type": "stream",
     "name": "stdout",
     "text": "False\n"
    }
   ],
   "source": [
    "# Operadores de pertencia para comprobar si un elemento se encuentra en un variable en una secuencia\n",
    "# en este caso el operador devuelve True o False los operadoes son \" in \" y \" not in\" , este ultimo vendria ser la negacion in\n",
    "# ejemplo\n",
    "text = \"Hola colega\"\n",
    "\"H\" in text # como vemos el resultado es True \n",
    "# este operador puede comparar varias secuencias de datos \n",
    "# cabe mencionar q en datos tipo str se tiene que ser preciso con las mayusculas ejemplo\n",
    "\"h\" in text # esto daria falso\n",
    "# ejemplo de una lista \n",
    "l = {1,2,5,6,7}\n",
    "2 in l # True\n",
    "4 not in l # esto da True porque el 4 no esta en l\n",
    "\n",
    "print(\"h\" in text )"
   ]
  },
  {
   "cell_type": "code",
   "execution_count": 22,
   "metadata": {
    "tags": []
   },
   "outputs": [
    {
     "output_type": "stream",
     "name": "stdout",
     "text": "94540200306528 94540200306528 True\n140471089884272 140470719569968 False 5.5 5.5\n140470723272192 140470722908416 True\n"
    }
   ],
   "source": [
    "# operadores de identidad\n",
    "# estos operadores basicamente comparan la direccion de memoria que tiene un objeto si las direcciones de los objetos\n",
    "# son iguales el resultado sera True de lo contrairo False\n",
    "# estos operadores son is y not is ---------------- Extra puede usar la funcion id(objeto) para conocer la ubicacion de memoria\n",
    "# ejemplo\n",
    "a = 4\n",
    "b = 4\n",
    "print(id(a),id(b),a is b) # como vemos las 2 variables apuntan a una misma direccion donde esta el 4\n",
    "# pero si hacemos esto\n",
    "a+=1.5 # ahora a vale 5.5\n",
    "b = 5.5 # defino b en 5.5 \n",
    "print(id(a),id(b),a is b,a,b) # vemos ahora que con distinta direccion de memoria asi tengan el mismo valor es False\n",
    "# comprobacion de listas \n",
    "l = [1,5,7]\n",
    "z = [1,5,7]\n",
    "print(id(l),id(z),7 is l) "
   ]
  },
  {
   "cell_type": "code",
   "execution_count": null,
   "metadata": {},
   "outputs": [],
   "source": []
  },
  {
   "cell_type": "code",
   "execution_count": null,
   "metadata": {},
   "outputs": [],
   "source": []
  }
 ],
 "metadata": {
  "kernelspec": {
   "display_name": "Python 3",
   "language": "python",
   "name": "python3"
  },
  "language_info": {
   "codemirror_mode": {
    "name": "ipython",
    "version": 3
   },
   "file_extension": ".py",
   "mimetype": "text/x-python",
   "name": "python",
   "nbconvert_exporter": "python",
   "pygments_lexer": "ipython3",
   "version": "3.8.3"
  }
 },
 "nbformat": 4,
 "nbformat_minor": 2
}