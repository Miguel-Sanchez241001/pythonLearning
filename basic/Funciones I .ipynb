{
 "cells": [
  {
   "cell_type": "markdown",
   "metadata": {},
   "source": [
    "# Algunas funciones "
   ]
  },
  {
   "cell_type": "code",
   "execution_count": 13,
   "metadata": {},
   "outputs": [
    {
     "name": "stdout",
     "output_type": "stream",
     "text": [
      "Hola lucho. Cuidate.\n",
      "Me llamo julian me gusta dormir\n",
      "Hola soy diego\n",
      "Me gusta dormir y programar X-x"
     ]
    }
   ],
   "source": [
    "# funcion print()\n",
    "# imprime en pantalla un cadena de texto \n",
    "s = \"Hola lucho\"\n",
    "print(s,end =\". Cuidate.\") # esta funcion tiene 2 argumentos en palabras claves \n",
    "# end = \" \" esta palabra anucia el final despues de imprimir el texto si salta de linea o coloca otra cadena\n",
    "# por defecto si no lo ponemos end = \"\\n\" hace un salto de linea\n",
    "# ejemplo\n",
    "print(\"\\nMe llamo julian\",end = \" me gusta dormir\\n\")# Estas 2 print saldran en una misma linea si queremos saltar debemos agregar \\n\n",
    "# Ahora el sep mas que nada es un separador por defecto viene asi sep = \" \" pero podemos modificarlo\n",
    "print(\"Hola soy diego\",\"Me gusta dormir y programar \",sep = \"\\n\",end = \"X-x\") # recordar q end siempre va al final"
   ]
  },
  {
   "cell_type": "code",
   "execution_count": 26,
   "metadata": {},
   "outputs": [
    {
     "name": "stdout",
     "output_type": "stream",
     "text": [
      "2079011617456-->45.5 esta seria la direccion y la variable\n",
      "6-->{1.5, 5, 6, 7, 8, 9}-->4-->Hola\n",
      "17 -->0b10001\n"
     ]
    }
   ],
   "source": [
    "# otra funciones\n",
    "# id() da la ubicacion en memoria de una variable muy util para comparacion por objeto con el operador is\n",
    "var = 45.5\n",
    "print(id(var),var,sep = \"-->\",end = \" esta seria la direccion y la variable\\n\")\n",
    "# otra funcion util es len()devuelve la cantidad en una secuencia\n",
    "nom = {1.5,7,8,9,5,6}\n",
    "no = \"Hola\"\n",
    "print(len(nom),nom,len(no),no,sep = \"-->\")\n",
    "# otra funcion util es bin()comvierte un numero a binario\n",
    "var = 17\n",
    "print(var,bin(var),sep = \" -->\")"
   ]
  },
  {
   "cell_type": "code",
   "execution_count": 27,
   "metadata": {},
   "outputs": [
    {
     "name": "stdout",
     "output_type": "stream",
     "text": [
      "(4+5j)--><class 'complex'>-->15.8--><class 'float'>-->Flack--><class 'str'>\n",
      " esto es todo por ahora agregare mas si encuentro en el transcurso"
     ]
    }
   ],
   "source": [
    "# por ultimo pero no menos importante tenemos a type()\n",
    "# Esta funcion devuelve la clase de objeto que tenemos o en su defecto el tipo de dato\n",
    "var = 4 +5j\n",
    "var1 = 15.8\n",
    "var2 = \"Flack\"\n",
    "print(var,type(var),var1,type(var1),var2,type(var2),sep = \"-->\",end = \"\\n esto es todo por ahora agregare mas si encuentro en el transcurso\")"
   ]
  },
  {
   "cell_type": "code",
   "execution_count": null,
   "metadata": {},
   "outputs": [],
   "source": []
  }
 ],
 "metadata": {
  "kernelspec": {
   "display_name": "Python 3",
   "language": "python",
   "name": "python3"
  },
  "language_info": {
   "codemirror_mode": {
    "name": "ipython",
    "version": 3
   },
   "file_extension": ".py",
   "mimetype": "text/x-python",
   "name": "python",
   "nbconvert_exporter": "python",
   "pygments_lexer": "ipython3",
   "version": "3.8.3"
  }
 },
 "nbformat": 4,
 "nbformat_minor": 4
}
