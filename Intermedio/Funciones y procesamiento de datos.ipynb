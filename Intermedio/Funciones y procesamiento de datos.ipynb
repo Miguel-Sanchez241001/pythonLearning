{
 "cells": [
  {
   "cell_type": "markdown",
   "metadata": {},
   "source": [
    "# Funciones "
   ]
  },
  {
   "cell_type": "code",
   "execution_count": 3,
   "metadata": {},
   "outputs": [],
   "source": [
    "\"\"\" Palabra reservada def para definir una funcion luego el nombre de la funcion\n",
    "recuerda ser coherente en el nombre que eliges para tu funcion\n",
    "Recuerda definir la funcion antes de ser invocada\n",
    "\"\"\"\n",
    "# funcionde saludar \n",
    "def Saludo():\n",
    "    print(\"Hola como estas?\")\n",
    "\n",
    "Saludo() # llamando a la funcion\n",
    "\"\"\"\n",
    "Recordar argumentos y parametros no son lo mismo \n",
    "Parametros existen dentro de las funciones\n",
    "Argumentos son incluidos al momentos de llamar una funcion y pasan su valor al parametro\n",
    "\"\"\""
   ]
  },
  {
   "cell_type": "markdown",
   "metadata": {},
   "source": [
    "#### argumentos posicionales y parametros por definicion\n",
    "\n",
    "\n",
    "\n",
    "\n"
   ]
  },
  {
   "cell_type": "code",
   "execution_count": 6,
   "metadata": {},
   "outputs": [
    {
     "name": "stdout",
     "output_type": "stream",
     "text": [
      "la suma de 8 + 4 + 10  es  22\n"
     ]
    }
   ],
   "source": [
    "def sumar(num1,num2,num3):\n",
    "    print(\"la suma de\",num1,\"+\",num2,\"+\",num3,\" es \",num1+num2+num3)\n",
    "\n",
    "    \n",
    "#sumar(1,2,4) # esto es un ejemplo simple de funcion cada argumento va con su parametro por posicion\n",
    "sumar(8,num2 = 4,num3 = 10) # ahora definimos el valor de los parametros con sus nombres"
   ]
  },
  {
   "cell_type": "markdown",
   "metadata": {},
   "source": [
    "#### Definicion de parametros por default "
   ]
  },
  {
   "cell_type": "code",
   "execution_count": 14,
   "metadata": {},
   "outputs": [
    {
     "name": "stdout",
     "output_type": "stream",
     "text": [
      "Usted esta sano y tiene un peso no saludable\n"
     ]
    }
   ],
   "source": [
    "def EstadoSalud(salud = True,peso = \"saludable\"):\n",
    "    if salud:\n",
    "        print(\"Usted esta sano y tiene un peso\",peso)\n",
    "    else:\n",
    "        print(\"usted esta enfermo y tiene un peso\",peso)\n",
    "\n",
    "# Notese que llamar la funcion sin incluir un parametro nos dira q estamos sanos\n",
    "EstadoSalud(peso = \"no saludable\") # notese q definiendo el parametro podemos obtener el default\n",
    "#EstadoSalud(salud = False,80) Esto da ERROR porque primero son los argumentos posicionales"
   ]
  },
  {
   "cell_type": "code",
   "execution_count": 36,
   "metadata": {},
   "outputs": [
    {
     "name": "stdout",
     "output_type": "stream",
     "text": [
      "9\n"
     ]
    }
   ],
   "source": [
    "# Nota el parametro por default preferentemente debe de ser el ultimo o en su contrario todos debe de tener  \n",
    "def suma(a=3, b=5, c=7):\n",
    "    print(a + b + c)\n",
    "\n",
    "suma(3,c=1)"
   ]
  },
  {
   "cell_type": "markdown",
   "metadata": {},
   "source": [
    "#### Termino return para las funciones\n",
    "###### 2 variantes"
   ]
  },
  {
   "cell_type": "code",
   "execution_count": 40,
   "metadata": {},
   "outputs": [
    {
     "name": "stdout",
     "output_type": "stream",
     "text": [
      "Gooooooooooooooooooooooool\n"
     ]
    }
   ],
   "source": [
    "\"\"\"\n",
    "1 variante sirve para salir de una funcion\n",
    "similar a un break de un bucle ejemplo\n",
    "\"\"\"\n",
    "def gol(estado = True):\n",
    "    if not estado:\n",
    "        print(\"Todo sigue normal\")\n",
    "        return\n",
    "    print(\"Gooooooooooooooooooooooool\")\n",
    "    \n",
    "gol()\n",
    "\"\"\"\n",
    "Este return omite lo siguente de la funcion y abandona su cuerpo imediatamente\n",
    "\"\"\"\n"
   ]
  },
  {
   "cell_type": "code",
   "execution_count": 45,
   "metadata": {},
   "outputs": [
    {
     "data": {
      "text/plain": [
       "3"
      ]
     },
     "execution_count": 45,
     "metadata": {},
     "output_type": "execute_result"
    }
   ],
   "source": [
    "\"\"\"\n",
    "2 variante return devolver un valor con posibilidad de almacenar\n",
    "ejemplo\n",
    "\"\"\"\n",
    "def Euclides(num1,num2):\n",
    "    if num1<num2:\n",
    "        num1,num2 = num2,num1\n",
    "    while True:\n",
    "        r = num1%num2\n",
    "        if r == 0:\n",
    "            return num2 \n",
    "        num1=num2\n",
    "        num2=r\n",
    "            \n",
    "Euclides(6,9)   \n",
    "    "
   ]
  },
  {
   "cell_type": "code",
   "execution_count": 46,
   "metadata": {},
   "outputs": [
    {
     "name": "stdout",
     "output_type": "stream",
     "text": [
      "None\n"
     ]
    }
   ],
   "source": [
    "# Valor None para funciones que no devuelven valor\n",
    "def hola():\n",
    "    return    \n",
    "  \n",
    "print(hola())"
   ]
  },
  {
   "cell_type": "code",
   "execution_count": 47,
   "metadata": {},
   "outputs": [
    {
     "name": "stdout",
     "output_type": "stream",
     "text": [
      "1900 ->OK\n",
      "2000 ->OK\n",
      "2016 ->OK\n",
      "1987 ->OK\n"
     ]
    }
   ],
   "source": [
    "# ejercicio de year bisiesto \n",
    "def isYearLeap(year):\n",
    "    \n",
    "    if not year % 4 and (year % 100 or  not year % 400):\n",
    "        # si year%4 != 0 no es un year bisiesto sin mas     \n",
    "        # ahora si es divisible entre 100 tendra que cumplir otro requisito sino es bisiesto\n",
    "        # ahora el otro requisito es que sea divisible entre 400 si lo cumple es bisiesto sino es normal\n",
    "        return True\n",
    "    \n",
    "    else:\n",
    "        \n",
    "        return False\n",
    "        \n",
    "testData = [1900, 2000, 2016, 1987]\n",
    "testResults = [False, True, True, False]\n",
    "for i in range(len(testData)):\n",
    "\tyr = testData[i]\n",
    "\tprint(yr,\"->\",end=\"\")\n",
    "\tresult = isYearLeap(yr)\n",
    "\tif result == testResults[i]:\n",
    "\t\tprint(\"OK\")\n",
    "\telse:\n",
    "\t\tprint(\"Error\")"
   ]
  },
  {
   "cell_type": "code",
   "execution_count": 52,
   "metadata": {},
   "outputs": [
    {
     "name": "stdout",
     "output_type": "stream",
     "text": [
      "1900 2 ->OK\n",
      "2000 2 ->OK\n",
      "2016 1 ->OK\n",
      "1987 11 ->OK\n",
      "365\n"
     ]
    }
   ],
   "source": [
    "# ejercicio Cisco dias en los meses de year bisiestos\n",
    "def isYearLeap(year):\n",
    "    if not year % 4 and (year % 100 or  not year % 400):\n",
    "         return True\n",
    "    else:\n",
    "        return False\n",
    "        \n",
    "\n",
    "def daysInMonth(year, month):\n",
    "    if month <=7:\n",
    "        if month !=2:\n",
    "            if month%2==0:\n",
    "                return 30\n",
    "            else:\n",
    "                return 31\n",
    "        elif not isYearLeap(year):\n",
    "            return 28\n",
    "        else:\n",
    "            return 29\n",
    "    elif month >7:\n",
    "        if month %2==0:\n",
    "            return 31\n",
    "        else:\n",
    "            return 30\n",
    "\n",
    "        \n",
    "testYears = [1900, 2000, 2016, 1987]\n",
    "testMonths = [2, 2, 1, 11]\n",
    "testResults = [28, 29, 31, 30]\n",
    "for i in range(len(testYears)):\n",
    "\tyr = testYears[i]\n",
    "\tmo = testMonths[i]\n",
    "\tprint(yr, mo, \"->\", end=\"\")\n",
    "\tresult = daysInMonth(yr, mo)\n",
    "\tif result == testResults[i]:\n",
    "\t\tprint(\"OK\")\n",
    "\telse:\n",
    "\t\tprint(\"Error\")\n",
    "def dayOfYear(year, month, day):\n",
    "    dias = 0\n",
    "    if year>0 and month>0 and day>0:\n",
    "        for mes in range(1,month):\n",
    "            diasMes = daysInMonth(year,mes)\n",
    "            dias += diasMes\n",
    "        return dias + day\n",
    "    else:\n",
    "        return None\n",
    "print(dayOfYear(2001, 12, 31))\n",
    "# Conteo de dias hasta la fecha indicada"
   ]
  },
  {
   "cell_type": "code",
   "execution_count": 55,
   "metadata": {},
   "outputs": [
    {
     "name": "stdout",
     "output_type": "stream",
     "text": [
      "2 3 5 7 11 13 17 19 23 29 31 37 41 43 47 53 59 61 67 71 73 79 83 89 97 \n"
     ]
    }
   ],
   "source": [
    "# ejercicio si un numero es primo\n",
    "def isPrime(num):\n",
    "    if num >2:\n",
    "        for i in range(2,num):\n",
    "            if not num%i:\n",
    "                return False\n",
    "    else:\n",
    "        return True\n",
    "    return True\n",
    "# Numeros Primos del 1 al 100\n",
    "for i in range(1, 100):\n",
    "    if isPrime(i + 1):\n",
    "        print(i + 1, end=\" \")\n",
    "print()"
   ]
  },
  {
   "cell_type": "code",
   "execution_count": null,
   "metadata": {},
   "outputs": [],
   "source": [
    "## 4.1.4.1 Los Alcances (Scopes) en Python"
   ]
  }
 ],
 "metadata": {
  "kernelspec": {
   "display_name": "Python 3",
   "language": "python",
   "name": "python3"
  },
  "language_info": {
   "codemirror_mode": {
    "name": "ipython",
    "version": 3
   },
   "file_extension": ".py",
   "mimetype": "text/x-python",
   "name": "python",
   "nbconvert_exporter": "python",
   "pygments_lexer": "ipython3",
   "version": "3.8.3"
  }
 },
 "nbformat": 4,
 "nbformat_minor": 4
}
