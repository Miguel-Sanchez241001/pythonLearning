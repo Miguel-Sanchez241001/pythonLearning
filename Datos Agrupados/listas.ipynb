{
 "cells": [
  {
   "cell_type": "markdown",
   "metadata": {},
   "source": [
    "#### Listas de python [ ]"
   ]
  },
  {
   "cell_type": "markdown",
   "metadata": {},
   "source": [
    "#### Metodos y declaracion\n"
   ]
  },
  {
   "cell_type": "code",
   "execution_count": 1,
   "metadata": {},
   "outputs": [
    {
     "name": "stdout",
     "output_type": "stream",
     "text": [
      "4\n",
      "[111, 7, 2, 1]\n",
      "5\n",
      "[111, 7, 2, 1, 4]\n",
      "6\n",
      "[222, 111, 7, 2, 1, 4]\n"
     ]
    }
   ],
   "source": [
    "numeros = [111, 7, 2, 1]\n",
    "print(len(numeros))\n",
    "print(numeros)\n",
    "\n",
    "###\n",
    "\n",
    "numeros.append(4)\n",
    "\n",
    "print(len(numeros))\n",
    "print(numeros)\n",
    "\n",
    "###\n",
    "\n",
    "numeros.insert(0,222)\n",
    "print(len(numeros))\n",
    "print(numeros)\n",
    "\n",
    "#\n"
   ]
  },
  {
   "cell_type": "code",
   "execution_count": 2,
   "metadata": {},
   "outputs": [
    {
     "name": "stdout",
     "output_type": "stream",
     "text": [
      "[1, 2, 3, 4, 5]\n"
     ]
    }
   ],
   "source": [
    "# declracion de una lista vacia y agregacion con append\n",
    "miLista = [] # creando una lista vacía\n",
    "\n",
    "for i in range (5):\n",
    "    miLista.append (i + 1)\n",
    "\n",
    "print(miLista)\n"
   ]
  },
  {
   "cell_type": "code",
   "execution_count": 3,
   "metadata": {},
   "outputs": [
    {
     "name": "stdout",
     "output_type": "stream",
     "text": [
      "27\n"
     ]
    }
   ],
   "source": [
    "# ejemplo del bucle for para el recorrido de una lista sin indice explicito\n",
    "miLista = [10, 1, 8, 3, 5]\n",
    "suma = 0\n",
    "\n",
    "for i in miLista:\n",
    "    suma += i\n",
    "\n",
    "print(suma) "
   ]
  },
  {
   "cell_type": "code",
   "execution_count": 4,
   "metadata": {},
   "outputs": [
    {
     "name": "stdout",
     "output_type": "stream",
     "text": [
      "2 1\n"
     ]
    }
   ],
   "source": [
    "# Extra intercambio de varaibles sin usar una variable auxiliar\n",
    "variable1 = 1\n",
    "variable2 = 2\n",
    "\n",
    "variable1, variable2 = variable2, variable1 \n",
    "print(variable1,variable2)"
   ]
  },
  {
   "cell_type": "markdown",
   "metadata": {},
   "source": [
    "#### Intercambio de elemetos de una lista  "
   ]
  },
  {
   "cell_type": "code",
   "execution_count": 5,
   "metadata": {},
   "outputs": [
    {
     "name": "stdout",
     "output_type": "stream",
     "text": [
      "[4, 5, 3, 8, 1, 10]\n"
     ]
    }
   ],
   "source": [
    "miLista = [10, 1, 8, 3, 5,4]\n",
    "longitud = len(miLista)\n",
    "\n",
    "for i in range (longitud // 2):\n",
    "    miLista[i], miLista[longitud-i-1] = miLista[longitud-i-1], miLista[i]\n",
    "\n",
    "print(miLista) "
   ]
  },
  {
   "cell_type": "code",
   "execution_count": null,
   "metadata": {},
   "outputs": [],
   "source": []
  }
 ],
 "metadata": {
  "kernelspec": {
   "display_name": "Python 3",
   "language": "python",
   "name": "python3"
  },
  "language_info": {
   "codemirror_mode": {
    "name": "ipython",
    "version": 3
   },
   "file_extension": ".py",
   "mimetype": "text/x-python",
   "name": "python",
   "nbconvert_exporter": "python",
   "pygments_lexer": "ipython3",
   "version": "3.8.3"
  }
 },
 "nbformat": 4,
 "nbformat_minor": 4
}
