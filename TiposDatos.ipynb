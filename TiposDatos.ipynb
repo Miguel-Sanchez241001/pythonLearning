{
 "cells": [
  {
   "cell_type": "markdown",
   "metadata": {},
   "source": [
    "# Tipo de Datos\n",
    "## Booleanos\n",
    "\n",
    "## Numericos\n",
    "\n",
    " enteros, punto flotante, complejos\n",
    " \n",
    "## Cadenas de texto\n",
    "\n"
   ]
  },
  {
   "cell_type": "code",
   "execution_count": 6,
   "metadata": {},
   "outputs": [
    {
     "name": "stdout",
     "output_type": "stream",
     "text": [
      "<class 'int'>\n",
      "33\n"
     ]
    }
   ],
   "source": [
    "#Datos numericos\n",
    "#metodos de creacion como literal resultado o una funcion\n",
    "# enteros 1 , 2 ,5 ,8 ,845165\n",
    "# var = 1234567890123456789\n",
    "var = 1 # literal\n",
    "var += 1 # resultado\n",
    "type(var)\n",
    "#Notaciones para la base de un numero\n",
    "# 0o para un nuemro en base 8\n",
    "once = 11\n",
    "# base 2\n",
    "onceO = 0o13 # funcion\n",
    "# base 16 Hexadecimal\n",
    "onceH = 0xb\n",
    "# prueba al sumar los 3 deberia darnos 33\n",
    "resultado = once +onceO + onceH\n",
    "print(type(resultado))\n",
    "print(resultado) "
   ]
  },
  {
   "cell_type": "code",
   "execution_count": 28,
   "metadata": {},
   "outputs": [
    {
     "name": "stdout",
     "output_type": "stream",
     "text": [
      "1.78\n",
      "1230.03\n"
     ]
    }
   ],
   "source": [
    "# numericos punto flotante python los denomina float\n",
    "# 12.5 , 16.8 , 0.1456\n",
    "# division de numeros decimales y de decimales con enteros da como resultado un decimal\n",
    "var = 0.5/0.5 #resutado es 1.0\n",
    "type(var) # si vemos el tipo nos dia q es float\n",
    "var =  0.5/35 # resultado un decimal 0.014.......\n",
    "var = 35/0.5 \n",
    "# ahora para la suma de decimales usar un formato para evitar la aproximacion por python\n",
    "# ejemplo \n",
    "var = 1.2 + 0.58 # resultado esperado 1.78 resultado obtenido 1.7799999999999998\n",
    "# solucion print(f'{var:.2f}') notese que se usa un formato para aproximar el valor de la variable en este caso a 2 decimales\n",
    "aux = f'{(1.2+0.58):.2f}'\n",
    "print( aux ) # Obtiene 1.78\n",
    "# extra expresion de variables en notacion cientifica\n",
    "var = 1.23E3 # 1230.0 en notacion\n",
    "aux = f'{(var + 0.03):.2f}'\n",
    "print( aux ) # resultado 1230.03"
   ]
  },
  {
   "cell_type": "code",
   "execution_count": null,
   "metadata": {},
   "outputs": [],
   "source": [
    "#Numeros complejos\n",
    "\n"
   ]
  },
  {
   "cell_type": "code",
   "execution_count": null,
   "metadata": {},
   "outputs": [],
   "source": []
  }
 ],
 "metadata": {
  "kernelspec": {
   "display_name": "Python 3",
   "language": "python",
   "name": "python3"
  },
  "language_info": {
   "codemirror_mode": {
    "name": "ipython",
    "version": 3
   },
   "file_extension": ".py",
   "mimetype": "text/x-python",
   "name": "python",
   "nbconvert_exporter": "python",
   "pygments_lexer": "ipython3",
   "version": "3.8.3"
  }
 },
 "nbformat": 4,
 "nbformat_minor": 4
}
